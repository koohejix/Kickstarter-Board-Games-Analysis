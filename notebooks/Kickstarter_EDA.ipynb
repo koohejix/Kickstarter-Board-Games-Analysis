{
 "cells": [
  {
   "cell_type": "markdown",
   "id": "b479dce2-6f8e-4fe7-b028-8d7c6ba84468",
   "metadata": {},
   "source": [
    "# Kickstarter: Exploratory Data Analysis"
   ]
  },
  {
   "cell_type": "markdown",
   "id": "d324d481-2aa5-4151-b5fa-ef11a3024a31",
   "metadata": {
    "tags": []
   },
   "source": [
    "## Project Overview"
   ]
  },
  {
   "cell_type": "markdown",
   "id": "b0eecfe8-d2c3-4d05-99d9-28b0b907dd2d",
   "metadata": {},
   "source": [
    "#### The notebook outlines an Exploratory Data Analysis __(EDA)__ of collected Kickstarter project data from the years 2009 to 2012. The project aims to identify the trends and correlations associated with a successful Kickstarter project, and derive from the analysis recommendations for how a project hosted on Kickstarter can succeed."
   ]
  },
  {
   "cell_type": "code",
   "execution_count": 1,
   "id": "ff4d80f9-6a1c-4cad-8616-e80e9673c644",
   "metadata": {
    "tags": []
   },
   "outputs": [],
   "source": [
    "import pandas as pd\n",
    "import numpy as np\n",
    "import matplotlib.pyplot as plt"
   ]
  },
  {
   "cell_type": "code",
   "execution_count": 2,
   "id": "f63cf327-35fc-401c-991c-800814e3787d",
   "metadata": {
    "tags": []
   },
   "outputs": [],
   "source": [
    "kickstarter_df = pd.read_csv('kickstarter_raw.csv', encoding='latin1')"
   ]
  },
  {
   "cell_type": "markdown",
   "id": "9c56fbfb-ac87-4ac6-bc32-aac892a7fb5a",
   "metadata": {},
   "source": [
    "## 1. Introduction"
   ]
  },
  {
   "cell_type": "code",
   "execution_count": 3,
   "id": "1bfc954f-3a37-4c56-b536-e065182b4aa0",
   "metadata": {
    "tags": []
   },
   "outputs": [
    {
     "data": {
      "text/plain": [
       "(45957, 17)"
      ]
     },
     "execution_count": 3,
     "metadata": {},
     "output_type": "execute_result"
    }
   ],
   "source": [
    "kickstarter_df.shape"
   ]
  },
  {
   "cell_type": "code",
   "execution_count": 4,
   "id": "c012274f-a4f6-462c-a9e0-46ccd3c21eef",
   "metadata": {
    "tags": []
   },
   "outputs": [
    {
     "data": {
      "text/plain": [
       "Index(['project id', 'name', 'url', 'category', 'subcategory', 'location',\n",
       "       'status', 'goal', 'pledged', 'funded percentage', 'backers',\n",
       "       'funded date', 'levels', 'reward levels', 'updates', 'comments',\n",
       "       'duration'],\n",
       "      dtype='object')"
      ]
     },
     "execution_count": 4,
     "metadata": {},
     "output_type": "execute_result"
    }
   ],
   "source": [
    "kickstarter_df.columns"
   ]
  },
  {
   "cell_type": "code",
   "execution_count": 5,
   "id": "509f00f8-5918-4d9e-89ae-205676cad9ad",
   "metadata": {
    "tags": []
   },
   "outputs": [
    {
     "data": {
      "text/html": [
       "<div>\n",
       "<style scoped>\n",
       "    .dataframe tbody tr th:only-of-type {\n",
       "        vertical-align: middle;\n",
       "    }\n",
       "\n",
       "    .dataframe tbody tr th {\n",
       "        vertical-align: top;\n",
       "    }\n",
       "\n",
       "    .dataframe thead th {\n",
       "        text-align: right;\n",
       "    }\n",
       "</style>\n",
       "<table border=\"1\" class=\"dataframe\">\n",
       "  <thead>\n",
       "    <tr style=\"text-align: right;\">\n",
       "      <th></th>\n",
       "      <th>project id</th>\n",
       "      <th>name</th>\n",
       "      <th>url</th>\n",
       "      <th>category</th>\n",
       "      <th>subcategory</th>\n",
       "      <th>location</th>\n",
       "      <th>status</th>\n",
       "      <th>goal</th>\n",
       "      <th>pledged</th>\n",
       "      <th>funded percentage</th>\n",
       "      <th>backers</th>\n",
       "      <th>funded date</th>\n",
       "      <th>levels</th>\n",
       "      <th>reward levels</th>\n",
       "      <th>updates</th>\n",
       "      <th>comments</th>\n",
       "      <th>duration</th>\n",
       "    </tr>\n",
       "  </thead>\n",
       "  <tbody>\n",
       "    <tr>\n",
       "      <th>count</th>\n",
       "      <td>4.595700e+04</td>\n",
       "      <td>45957</td>\n",
       "      <td>45957</td>\n",
       "      <td>45957</td>\n",
       "      <td>45957</td>\n",
       "      <td>44635</td>\n",
       "      <td>45957</td>\n",
       "      <td>4.595700e+04</td>\n",
       "      <td>4.594500e+04</td>\n",
       "      <td>45957.000000</td>\n",
       "      <td>45957.000000</td>\n",
       "      <td>45957</td>\n",
       "      <td>45957.000000</td>\n",
       "      <td>45898</td>\n",
       "      <td>45957.00000</td>\n",
       "      <td>45957.000000</td>\n",
       "      <td>45957.000000</td>\n",
       "    </tr>\n",
       "    <tr>\n",
       "      <th>unique</th>\n",
       "      <td>NaN</td>\n",
       "      <td>45754</td>\n",
       "      <td>45814</td>\n",
       "      <td>14</td>\n",
       "      <td>51</td>\n",
       "      <td>4849</td>\n",
       "      <td>5</td>\n",
       "      <td>NaN</td>\n",
       "      <td>NaN</td>\n",
       "      <td>NaN</td>\n",
       "      <td>NaN</td>\n",
       "      <td>41068</td>\n",
       "      <td>NaN</td>\n",
       "      <td>28378</td>\n",
       "      <td>NaN</td>\n",
       "      <td>NaN</td>\n",
       "      <td>NaN</td>\n",
       "    </tr>\n",
       "    <tr>\n",
       "      <th>top</th>\n",
       "      <td>NaN</td>\n",
       "      <td>Black Storm</td>\n",
       "      <td>http://www.kickstarter.com/projects/34840787/t...</td>\n",
       "      <td>Film &amp;amp; Video</td>\n",
       "      <td>Documentary</td>\n",
       "      <td>Los Angeles, CA</td>\n",
       "      <td>successful</td>\n",
       "      <td>NaN</td>\n",
       "      <td>NaN</td>\n",
       "      <td>NaN</td>\n",
       "      <td>NaN</td>\n",
       "      <td>Sun, 01 Jan 2012 04:59:00 -0000</td>\n",
       "      <td>NaN</td>\n",
       "      <td>$10,$25,$50,$100,$250,$500,$1,000</td>\n",
       "      <td>NaN</td>\n",
       "      <td>NaN</td>\n",
       "      <td>NaN</td>\n",
       "    </tr>\n",
       "    <tr>\n",
       "      <th>freq</th>\n",
       "      <td>NaN</td>\n",
       "      <td>3</td>\n",
       "      <td>2</td>\n",
       "      <td>13053</td>\n",
       "      <td>4012</td>\n",
       "      <td>3927</td>\n",
       "      <td>22969</td>\n",
       "      <td>NaN</td>\n",
       "      <td>NaN</td>\n",
       "      <td>NaN</td>\n",
       "      <td>NaN</td>\n",
       "      <td>44</td>\n",
       "      <td>NaN</td>\n",
       "      <td>369</td>\n",
       "      <td>NaN</td>\n",
       "      <td>NaN</td>\n",
       "      <td>NaN</td>\n",
       "    </tr>\n",
       "    <tr>\n",
       "      <th>mean</th>\n",
       "      <td>1.080800e+09</td>\n",
       "      <td>NaN</td>\n",
       "      <td>NaN</td>\n",
       "      <td>NaN</td>\n",
       "      <td>NaN</td>\n",
       "      <td>NaN</td>\n",
       "      <td>NaN</td>\n",
       "      <td>1.194271e+04</td>\n",
       "      <td>4.980750e+03</td>\n",
       "      <td>1.850129</td>\n",
       "      <td>69.973192</td>\n",
       "      <td>NaN</td>\n",
       "      <td>8.004939</td>\n",
       "      <td>NaN</td>\n",
       "      <td>4.08508</td>\n",
       "      <td>8.379529</td>\n",
       "      <td>39.995547</td>\n",
       "    </tr>\n",
       "    <tr>\n",
       "      <th>std</th>\n",
       "      <td>6.218057e+08</td>\n",
       "      <td>NaN</td>\n",
       "      <td>NaN</td>\n",
       "      <td>NaN</td>\n",
       "      <td>NaN</td>\n",
       "      <td>NaN</td>\n",
       "      <td>NaN</td>\n",
       "      <td>1.887583e+05</td>\n",
       "      <td>5.674162e+04</td>\n",
       "      <td>88.492706</td>\n",
       "      <td>688.628479</td>\n",
       "      <td>NaN</td>\n",
       "      <td>4.233907</td>\n",
       "      <td>NaN</td>\n",
       "      <td>6.43922</td>\n",
       "      <td>174.015737</td>\n",
       "      <td>17.414458</td>\n",
       "    </tr>\n",
       "    <tr>\n",
       "      <th>min</th>\n",
       "      <td>3.940900e+04</td>\n",
       "      <td>NaN</td>\n",
       "      <td>NaN</td>\n",
       "      <td>NaN</td>\n",
       "      <td>NaN</td>\n",
       "      <td>NaN</td>\n",
       "      <td>NaN</td>\n",
       "      <td>1.000000e-02</td>\n",
       "      <td>0.000000e+00</td>\n",
       "      <td>0.000000</td>\n",
       "      <td>0.000000</td>\n",
       "      <td>NaN</td>\n",
       "      <td>0.000000</td>\n",
       "      <td>NaN</td>\n",
       "      <td>0.00000</td>\n",
       "      <td>0.000000</td>\n",
       "      <td>1.000000</td>\n",
       "    </tr>\n",
       "    <tr>\n",
       "      <th>25%</th>\n",
       "      <td>5.438962e+08</td>\n",
       "      <td>NaN</td>\n",
       "      <td>NaN</td>\n",
       "      <td>NaN</td>\n",
       "      <td>NaN</td>\n",
       "      <td>NaN</td>\n",
       "      <td>NaN</td>\n",
       "      <td>1.800000e+03</td>\n",
       "      <td>1.960000e+02</td>\n",
       "      <td>0.044000</td>\n",
       "      <td>5.000000</td>\n",
       "      <td>NaN</td>\n",
       "      <td>5.000000</td>\n",
       "      <td>NaN</td>\n",
       "      <td>0.00000</td>\n",
       "      <td>0.000000</td>\n",
       "      <td>30.000000</td>\n",
       "    </tr>\n",
       "    <tr>\n",
       "      <th>50%</th>\n",
       "      <td>1.078345e+09</td>\n",
       "      <td>NaN</td>\n",
       "      <td>NaN</td>\n",
       "      <td>NaN</td>\n",
       "      <td>NaN</td>\n",
       "      <td>NaN</td>\n",
       "      <td>NaN</td>\n",
       "      <td>4.000000e+03</td>\n",
       "      <td>1.310000e+03</td>\n",
       "      <td>1.000000</td>\n",
       "      <td>23.000000</td>\n",
       "      <td>NaN</td>\n",
       "      <td>7.000000</td>\n",
       "      <td>NaN</td>\n",
       "      <td>2.00000</td>\n",
       "      <td>0.000000</td>\n",
       "      <td>32.000000</td>\n",
       "    </tr>\n",
       "    <tr>\n",
       "      <th>75%</th>\n",
       "      <td>1.621596e+09</td>\n",
       "      <td>NaN</td>\n",
       "      <td>NaN</td>\n",
       "      <td>NaN</td>\n",
       "      <td>NaN</td>\n",
       "      <td>NaN</td>\n",
       "      <td>NaN</td>\n",
       "      <td>9.862000e+03</td>\n",
       "      <td>4.165000e+03</td>\n",
       "      <td>1.115640</td>\n",
       "      <td>59.000000</td>\n",
       "      <td>NaN</td>\n",
       "      <td>10.000000</td>\n",
       "      <td>NaN</td>\n",
       "      <td>6.00000</td>\n",
       "      <td>3.000000</td>\n",
       "      <td>48.390000</td>\n",
       "    </tr>\n",
       "    <tr>\n",
       "      <th>max</th>\n",
       "      <td>2.147460e+09</td>\n",
       "      <td>NaN</td>\n",
       "      <td>NaN</td>\n",
       "      <td>NaN</td>\n",
       "      <td>NaN</td>\n",
       "      <td>NaN</td>\n",
       "      <td>NaN</td>\n",
       "      <td>2.147484e+07</td>\n",
       "      <td>1.026684e+07</td>\n",
       "      <td>15066.000000</td>\n",
       "      <td>87142.000000</td>\n",
       "      <td>NaN</td>\n",
       "      <td>80.000000</td>\n",
       "      <td>NaN</td>\n",
       "      <td>149.00000</td>\n",
       "      <td>19311.000000</td>\n",
       "      <td>91.960000</td>\n",
       "    </tr>\n",
       "  </tbody>\n",
       "</table>\n",
       "</div>"
      ],
      "text/plain": [
       "          project id         name  \\\n",
       "count   4.595700e+04        45957   \n",
       "unique           NaN        45754   \n",
       "top              NaN  Black Storm   \n",
       "freq             NaN            3   \n",
       "mean    1.080800e+09          NaN   \n",
       "std     6.218057e+08          NaN   \n",
       "min     3.940900e+04          NaN   \n",
       "25%     5.438962e+08          NaN   \n",
       "50%     1.078345e+09          NaN   \n",
       "75%     1.621596e+09          NaN   \n",
       "max     2.147460e+09          NaN   \n",
       "\n",
       "                                                      url          category  \\\n",
       "count                                               45957             45957   \n",
       "unique                                              45814                14   \n",
       "top     http://www.kickstarter.com/projects/34840787/t...  Film &amp; Video   \n",
       "freq                                                    2             13053   \n",
       "mean                                                  NaN               NaN   \n",
       "std                                                   NaN               NaN   \n",
       "min                                                   NaN               NaN   \n",
       "25%                                                   NaN               NaN   \n",
       "50%                                                   NaN               NaN   \n",
       "75%                                                   NaN               NaN   \n",
       "max                                                   NaN               NaN   \n",
       "\n",
       "        subcategory         location      status          goal       pledged  \\\n",
       "count         45957            44635       45957  4.595700e+04  4.594500e+04   \n",
       "unique           51             4849           5           NaN           NaN   \n",
       "top     Documentary  Los Angeles, CA  successful           NaN           NaN   \n",
       "freq           4012             3927       22969           NaN           NaN   \n",
       "mean            NaN              NaN         NaN  1.194271e+04  4.980750e+03   \n",
       "std             NaN              NaN         NaN  1.887583e+05  5.674162e+04   \n",
       "min             NaN              NaN         NaN  1.000000e-02  0.000000e+00   \n",
       "25%             NaN              NaN         NaN  1.800000e+03  1.960000e+02   \n",
       "50%             NaN              NaN         NaN  4.000000e+03  1.310000e+03   \n",
       "75%             NaN              NaN         NaN  9.862000e+03  4.165000e+03   \n",
       "max             NaN              NaN         NaN  2.147484e+07  1.026684e+07   \n",
       "\n",
       "        funded percentage       backers                      funded date  \\\n",
       "count        45957.000000  45957.000000                            45957   \n",
       "unique                NaN           NaN                            41068   \n",
       "top                   NaN           NaN  Sun, 01 Jan 2012 04:59:00 -0000   \n",
       "freq                  NaN           NaN                               44   \n",
       "mean             1.850129     69.973192                              NaN   \n",
       "std             88.492706    688.628479                              NaN   \n",
       "min              0.000000      0.000000                              NaN   \n",
       "25%              0.044000      5.000000                              NaN   \n",
       "50%              1.000000     23.000000                              NaN   \n",
       "75%              1.115640     59.000000                              NaN   \n",
       "max          15066.000000  87142.000000                              NaN   \n",
       "\n",
       "              levels                      reward levels      updates  \\\n",
       "count   45957.000000                              45898  45957.00000   \n",
       "unique           NaN                              28378          NaN   \n",
       "top              NaN  $10,$25,$50,$100,$250,$500,$1,000          NaN   \n",
       "freq             NaN                                369          NaN   \n",
       "mean        8.004939                                NaN      4.08508   \n",
       "std         4.233907                                NaN      6.43922   \n",
       "min         0.000000                                NaN      0.00000   \n",
       "25%         5.000000                                NaN      0.00000   \n",
       "50%         7.000000                                NaN      2.00000   \n",
       "75%        10.000000                                NaN      6.00000   \n",
       "max        80.000000                                NaN    149.00000   \n",
       "\n",
       "            comments      duration  \n",
       "count   45957.000000  45957.000000  \n",
       "unique           NaN           NaN  \n",
       "top              NaN           NaN  \n",
       "freq             NaN           NaN  \n",
       "mean        8.379529     39.995547  \n",
       "std       174.015737     17.414458  \n",
       "min         0.000000      1.000000  \n",
       "25%         0.000000     30.000000  \n",
       "50%         0.000000     32.000000  \n",
       "75%         3.000000     48.390000  \n",
       "max     19311.000000     91.960000  "
      ]
     },
     "execution_count": 5,
     "metadata": {},
     "output_type": "execute_result"
    }
   ],
   "source": [
    "kickstarter_df.describe(datetime_is_numeric = True, include = 'all')"
   ]
  },
  {
   "cell_type": "markdown",
   "id": "8e3d42f5-abf6-489b-8cd0-272d437c7d9c",
   "metadata": {},
   "source": [
    "## 2. Data Cleaning"
   ]
  },
  {
   "cell_type": "markdown",
   "id": "79f1e9ff-3d9d-4ba9-997a-fd11c2cf86b1",
   "metadata": {
    "tags": []
   },
   "source": [
    "### a. Renaming Columns"
   ]
  },
  {
   "cell_type": "code",
   "execution_count": 6,
   "id": "f747e923-e3a3-4c6d-a0d2-1a81ff963e5b",
   "metadata": {
    "tags": []
   },
   "outputs": [
    {
     "data": {
      "text/plain": [
       "Index(['project_id', 'name', 'url', 'category', 'subcategory', 'location',\n",
       "       'status', 'goal', 'pledged', 'funded_percentage', 'backers',\n",
       "       'funded_date', 'levels', 'reward_levels', 'updates', 'comments',\n",
       "       'duration'],\n",
       "      dtype='object')"
      ]
     },
     "execution_count": 6,
     "metadata": {},
     "output_type": "execute_result"
    }
   ],
   "source": [
    "kickstarter_df = kickstarter_df.rename(columns={'project id': 'project_id', 'funded percentage': 'funded_percentage', 'funded date': 'funded_date', 'reward levels': 'reward_levels'})\n",
    "kickstarter_df.columns"
   ]
  },
  {
   "cell_type": "markdown",
   "id": "c5b6c709-8ec4-4243-be28-c45e5d109030",
   "metadata": {},
   "source": [
    "### b. Validating Data Types"
   ]
  },
  {
   "cell_type": "code",
   "execution_count": 7,
   "id": "c432d6cf-f37e-4981-b499-69637d7e3130",
   "metadata": {
    "tags": []
   },
   "outputs": [
    {
     "name": "stdout",
     "output_type": "stream",
     "text": [
      "<class 'pandas.core.frame.DataFrame'>\n",
      "RangeIndex: 45957 entries, 0 to 45956\n",
      "Data columns (total 17 columns):\n",
      " #   Column             Non-Null Count  Dtype  \n",
      "---  ------             --------------  -----  \n",
      " 0   project_id         45957 non-null  int64  \n",
      " 1   name               45957 non-null  object \n",
      " 2   url                45957 non-null  object \n",
      " 3   category           45957 non-null  object \n",
      " 4   subcategory        45957 non-null  object \n",
      " 5   location           44635 non-null  object \n",
      " 6   status             45957 non-null  object \n",
      " 7   goal               45957 non-null  float64\n",
      " 8   pledged            45945 non-null  float64\n",
      " 9   funded_percentage  45957 non-null  float64\n",
      " 10  backers            45957 non-null  int64  \n",
      " 11  funded_date        45957 non-null  object \n",
      " 12  levels             45957 non-null  int64  \n",
      " 13  reward_levels      45898 non-null  object \n",
      " 14  updates            45957 non-null  int64  \n",
      " 15  comments           45957 non-null  int64  \n",
      " 16  duration           45957 non-null  float64\n",
      "dtypes: float64(4), int64(5), object(8)\n",
      "memory usage: 6.0+ MB\n"
     ]
    }
   ],
   "source": [
    "kickstarter_df.info()"
   ]
  },
  {
   "cell_type": "code",
   "execution_count": 8,
   "id": "5846930e-c642-4770-9718-4946a98e5a2b",
   "metadata": {
    "tags": []
   },
   "outputs": [],
   "source": [
    "kickstarter_df.funded_date = pd.to_datetime(kickstarter_df.funded_date, infer_datetime_format = 'True')"
   ]
  },
  {
   "cell_type": "code",
   "execution_count": 9,
   "id": "686b3d84-64ef-4f94-acd4-d3d701063a41",
   "metadata": {
    "tags": []
   },
   "outputs": [],
   "source": [
    "kickstarter_df.project_id = kickstarter_df.project_id.astype(object)"
   ]
  },
  {
   "cell_type": "code",
   "execution_count": 10,
   "id": "fb968b83-253f-4d9a-bf44-9454167be98d",
   "metadata": {
    "tags": []
   },
   "outputs": [
    {
     "name": "stdout",
     "output_type": "stream",
     "text": [
      "<class 'pandas.core.frame.DataFrame'>\n",
      "RangeIndex: 45957 entries, 0 to 45956\n",
      "Data columns (total 17 columns):\n",
      " #   Column             Non-Null Count  Dtype              \n",
      "---  ------             --------------  -----              \n",
      " 0   project_id         45957 non-null  object             \n",
      " 1   name               45957 non-null  object             \n",
      " 2   url                45957 non-null  object             \n",
      " 3   category           45957 non-null  object             \n",
      " 4   subcategory        45957 non-null  object             \n",
      " 5   location           44635 non-null  object             \n",
      " 6   status             45957 non-null  object             \n",
      " 7   goal               45957 non-null  float64            \n",
      " 8   pledged            45945 non-null  float64            \n",
      " 9   funded_percentage  45957 non-null  float64            \n",
      " 10  backers            45957 non-null  int64              \n",
      " 11  funded_date        45957 non-null  datetime64[ns, UTC]\n",
      " 12  levels             45957 non-null  int64              \n",
      " 13  reward_levels      45898 non-null  object             \n",
      " 14  updates            45957 non-null  int64              \n",
      " 15  comments           45957 non-null  int64              \n",
      " 16  duration           45957 non-null  float64            \n",
      "dtypes: datetime64[ns, UTC](1), float64(4), int64(4), object(8)\n",
      "memory usage: 6.0+ MB\n"
     ]
    }
   ],
   "source": [
    "kickstarter_df.info()"
   ]
  },
  {
   "cell_type": "markdown",
   "id": "721ae9c6-a330-4a9a-9cf6-5280514321e3",
   "metadata": {
    "tags": []
   },
   "source": [
    "### c. Determining and Handling Null Values"
   ]
  },
  {
   "cell_type": "code",
   "execution_count": 11,
   "id": "feaf3596-2107-4fcf-bb21-b3c1a98f3c2e",
   "metadata": {
    "tags": []
   },
   "outputs": [
    {
     "data": {
      "text/plain": [
       "project_id              0\n",
       "name                    0\n",
       "url                     0\n",
       "category                0\n",
       "subcategory             0\n",
       "location             1322\n",
       "status                  0\n",
       "goal                    0\n",
       "pledged                12\n",
       "funded_percentage       0\n",
       "backers                 0\n",
       "funded_date             0\n",
       "levels                  0\n",
       "reward_levels          59\n",
       "updates                 0\n",
       "comments                0\n",
       "duration                0\n",
       "dtype: int64"
      ]
     },
     "execution_count": 11,
     "metadata": {},
     "output_type": "execute_result"
    }
   ],
   "source": [
    "kickstarter_df.isna().sum()"
   ]
  },
  {
   "cell_type": "code",
   "execution_count": 12,
   "id": "d33881a1-d080-49a7-9878-bf2d353e834c",
   "metadata": {
    "tags": []
   },
   "outputs": [],
   "source": [
    "kickstarter_df.location = kickstarter_df.location.fillna('Not Available')"
   ]
  },
  {
   "cell_type": "code",
   "execution_count": 13,
   "id": "7e83748b-0523-48a5-90c3-48ef29f6870a",
   "metadata": {
    "tags": []
   },
   "outputs": [
    {
     "data": {
      "text/plain": [
       "project_id            0\n",
       "name                  0\n",
       "url                   0\n",
       "category              0\n",
       "subcategory           0\n",
       "location              0\n",
       "status                0\n",
       "goal                  0\n",
       "pledged              12\n",
       "funded_percentage     0\n",
       "backers               0\n",
       "funded_date           0\n",
       "levels                0\n",
       "reward_levels        59\n",
       "updates               0\n",
       "comments              0\n",
       "duration              0\n",
       "dtype: int64"
      ]
     },
     "execution_count": 13,
     "metadata": {},
     "output_type": "execute_result"
    }
   ],
   "source": [
    "kickstarter_df.isna().sum()"
   ]
  },
  {
   "cell_type": "code",
   "execution_count": 14,
   "id": "a2861e27-a306-4cdb-8cfb-934c01e545ac",
   "metadata": {
    "tags": []
   },
   "outputs": [],
   "source": [
    "kickstarter_df.reward_levels = kickstarter_df.reward_levels.fillna(0)"
   ]
  },
  {
   "cell_type": "code",
   "execution_count": 15,
   "id": "8f2f2f1e-4223-4ffa-8612-b1f5ee11cc96",
   "metadata": {
    "tags": []
   },
   "outputs": [
    {
     "data": {
      "text/plain": [
       "project_id            0\n",
       "name                  0\n",
       "url                   0\n",
       "category              0\n",
       "subcategory           0\n",
       "location              0\n",
       "status                0\n",
       "goal                  0\n",
       "pledged              12\n",
       "funded_percentage     0\n",
       "backers               0\n",
       "funded_date           0\n",
       "levels                0\n",
       "reward_levels         0\n",
       "updates               0\n",
       "comments              0\n",
       "duration              0\n",
       "dtype: int64"
      ]
     },
     "execution_count": 15,
     "metadata": {},
     "output_type": "execute_result"
    }
   ],
   "source": [
    "kickstarter_df.isna().sum()"
   ]
  },
  {
   "cell_type": "code",
   "execution_count": 16,
   "id": "83eb6018-6c29-48b7-b9cd-a3dd555413f6",
   "metadata": {
    "tags": []
   },
   "outputs": [
    {
     "data": {
      "text/plain": [
       "1187     http://www.kickstarter.com/projects/69341191/x...\n",
       "4502     http://www.kickstarter.com/projects/twokinds/t...\n",
       "13381    http://www.kickstarter.com/projects/hickies/hi...\n",
       "13802    http://www.kickstarter.com/projects/syrp/genie...\n",
       "25239    http://www.kickstarter.com/projects/b9creation...\n",
       "29412    http://www.kickstarter.com/projects/madgod/phi...\n",
       "31164    http://www.kickstarter.com/projects/incident/g...\n",
       "34274    http://www.kickstarter.com/projects/58936338/s...\n",
       "35032    http://www.kickstarter.com/projects/257527888/...\n",
       "40759    http://www.kickstarter.com/projects/spaceventu...\n",
       "40872    http://www.kickstarter.com/projects/382469225/...\n",
       "44132    http://www.kickstarter.com/projects/waysidecre...\n",
       "Name: url, dtype: object"
      ]
     },
     "execution_count": 16,
     "metadata": {},
     "output_type": "execute_result"
    }
   ],
   "source": [
    "null_pledges = kickstarter_df.pledged.isna()\n",
    "kickstarter_df[null_pledges].url"
   ]
  },
  {
   "cell_type": "code",
   "execution_count": 17,
   "id": "76cc1b60-6c20-4f56-acd9-ccbd7661e7c0",
   "metadata": {
    "tags": []
   },
   "outputs": [],
   "source": [
    "url_list = kickstarter_df[null_pledges].url.tolist()"
   ]
  },
  {
   "cell_type": "code",
   "execution_count": 18,
   "id": "4c392e6c-c0a4-4eb5-badb-2cf30a01484d",
   "metadata": {
    "tags": []
   },
   "outputs": [],
   "source": [
    "pledges_list = [154715, 197512, 159167, 636766, 513422, 124156, 353392, 221267, 322022, 539767, 212265, 130746]"
   ]
  },
  {
   "cell_type": "code",
   "execution_count": 19,
   "id": "a39feb3d-903f-4145-b494-4f4dcd2a9f08",
   "metadata": {
    "tags": []
   },
   "outputs": [],
   "source": [
    "pledges_dict = dict(zip(url_list, pledges_list))\n",
    "kickstarter_df.loc[kickstarter_df['url'].isin(url_list) & kickstarter_df['pledged'].isna(), 'pledged'] = kickstarter_df['url'].map(pledges_dict)"
   ]
  },
  {
   "cell_type": "code",
   "execution_count": 20,
   "id": "7d4bc8f5-ba9d-4797-8410-8e13836c2311",
   "metadata": {
    "tags": []
   },
   "outputs": [
    {
     "data": {
      "text/plain": [
       "project_id           0\n",
       "name                 0\n",
       "url                  0\n",
       "category             0\n",
       "subcategory          0\n",
       "location             0\n",
       "status               0\n",
       "goal                 0\n",
       "pledged              0\n",
       "funded_percentage    0\n",
       "backers              0\n",
       "funded_date          0\n",
       "levels               0\n",
       "reward_levels        0\n",
       "updates              0\n",
       "comments             0\n",
       "duration             0\n",
       "dtype: int64"
      ]
     },
     "execution_count": 20,
     "metadata": {},
     "output_type": "execute_result"
    }
   ],
   "source": [
    "kickstarter_df.isna().sum()"
   ]
  },
  {
   "cell_type": "markdown",
   "id": "1684411b-eea4-491b-b376-311dd748c817",
   "metadata": {},
   "source": [
    "### d. Fixing Column Values"
   ]
  },
  {
   "cell_type": "code",
   "execution_count": 21,
   "id": "d368a3a6-c1f6-4747-b27f-a74fda69c24b",
   "metadata": {
    "tags": []
   },
   "outputs": [
    {
     "data": {
      "text/plain": [
       "array(['Film & Video', 'Games', 'Fashion', 'Music', 'Art', 'Technology',\n",
       "       'Dance', 'Publishing', 'Theater', 'Comics', 'Design',\n",
       "       'Photography', 'Food', 'Film &amp; Video'], dtype=object)"
      ]
     },
     "execution_count": 21,
     "metadata": {},
     "output_type": "execute_result"
    }
   ],
   "source": [
    "kickstarter_df.category.unique()"
   ]
  },
  {
   "cell_type": "code",
   "execution_count": 22,
   "id": "8f97c8b8-f973-45a8-ad0a-3f9c2a89b552",
   "metadata": {
    "tags": []
   },
   "outputs": [],
   "source": [
    "kickstarter_df.category = kickstarter_df.category.replace('Film &amp; Video','Film & Video')"
   ]
  },
  {
   "cell_type": "code",
   "execution_count": 23,
   "id": "cad524ad-36cb-43d8-93e6-81e5b9a3ca22",
   "metadata": {
    "tags": []
   },
   "outputs": [
    {
     "data": {
      "text/plain": [
       "array(['Film & Video', 'Games', 'Fashion', 'Music', 'Art', 'Technology',\n",
       "       'Dance', 'Publishing', 'Theater', 'Comics', 'Design',\n",
       "       'Photography', 'Food'], dtype=object)"
      ]
     },
     "execution_count": 23,
     "metadata": {},
     "output_type": "execute_result"
    }
   ],
   "source": [
    "kickstarter_df.category.unique()"
   ]
  },
  {
   "cell_type": "code",
   "execution_count": 24,
   "id": "de8ee108-e7d8-4e2e-aa34-fe39a8047353",
   "metadata": {
    "tags": []
   },
   "outputs": [
    {
     "data": {
      "text/plain": [
       "array(['Short Film', 'Board & Card Games', 'Animation', 'Documentary',\n",
       "       'Fashion', 'Music', 'Illustration', 'Film &amp; Video',\n",
       "       'Open Software', 'Indie Rock', 'Dance', 'Fiction', 'Nonfiction',\n",
       "       'Theater', 'Games', 'Art Book', 'Country & Folk', 'Comics',\n",
       "       'Webseries', 'Technology', 'Performance Art', 'Narrative Film',\n",
       "       'Video Games', 'Product Design', 'Rock', 'Painting', 'Photography',\n",
       "       'Conceptual Art', 'Jazz', 'Open Hardware', 'Classical Music',\n",
       "       'Food', 'Art', 'Pop', 'Journalism', 'Poetry', 'Electronic Music',\n",
       "       'World Music', 'Sculpture', 'Publishing', \"Children's Book\",\n",
       "       'Public Art', 'Mixed Media', 'Graphic Design', 'Hip-Hop',\n",
       "       'Periodical', 'Crafts', 'Design', 'Digital Art',\n",
       "       'Board &amp; Card Games', 'Country &amp; Folk'], dtype=object)"
      ]
     },
     "execution_count": 24,
     "metadata": {},
     "output_type": "execute_result"
    }
   ],
   "source": [
    "kickstarter_df.subcategory.unique()"
   ]
  },
  {
   "cell_type": "code",
   "execution_count": 25,
   "id": "79838723-195d-4d15-93d7-ff5fbbab2e3b",
   "metadata": {
    "tags": []
   },
   "outputs": [],
   "source": [
    "kickstarter_df.subcategory = kickstarter_df.subcategory.replace('Film &amp; Video','Film & Video')\n",
    "kickstarter_df.subcategory = kickstarter_df.subcategory.replace('Board &amp; Card Games','Board & Card Games')\n",
    "kickstarter_df.subcategory = kickstarter_df.subcategory.replace('Country &amp; Folk','Country & Folk')"
   ]
  },
  {
   "cell_type": "code",
   "execution_count": 26,
   "id": "41726e36-763d-4132-af7a-1bc8f4f9b6f3",
   "metadata": {
    "tags": []
   },
   "outputs": [
    {
     "data": {
      "text/plain": [
       "array(['Short Film', 'Board & Card Games', 'Animation', 'Documentary',\n",
       "       'Fashion', 'Music', 'Illustration', 'Film & Video',\n",
       "       'Open Software', 'Indie Rock', 'Dance', 'Fiction', 'Nonfiction',\n",
       "       'Theater', 'Games', 'Art Book', 'Country & Folk', 'Comics',\n",
       "       'Webseries', 'Technology', 'Performance Art', 'Narrative Film',\n",
       "       'Video Games', 'Product Design', 'Rock', 'Painting', 'Photography',\n",
       "       'Conceptual Art', 'Jazz', 'Open Hardware', 'Classical Music',\n",
       "       'Food', 'Art', 'Pop', 'Journalism', 'Poetry', 'Electronic Music',\n",
       "       'World Music', 'Sculpture', 'Publishing', \"Children's Book\",\n",
       "       'Public Art', 'Mixed Media', 'Graphic Design', 'Hip-Hop',\n",
       "       'Periodical', 'Crafts', 'Design', 'Digital Art'], dtype=object)"
      ]
     },
     "execution_count": 26,
     "metadata": {},
     "output_type": "execute_result"
    }
   ],
   "source": [
    "kickstarter_df.subcategory.unique()"
   ]
  },
  {
   "cell_type": "markdown",
   "id": "06b0fc07-d938-4a3b-b8c6-a8ead0b79e41",
   "metadata": {},
   "source": [
    "### e. Saving Clean Kickstarter Data"
   ]
  },
  {
   "cell_type": "code",
   "execution_count": 28,
   "id": "73892599-4f9f-4ef3-ba82-c0362834f4bf",
   "metadata": {},
   "outputs": [],
   "source": [
    "kickstarter_df.to_csv('kickstarter_clean.csv', index=False)"
   ]
  },
  {
   "cell_type": "markdown",
   "id": "6d2bf854-520d-4799-9258-2fe80df32630",
   "metadata": {},
   "source": [
    "### f. Creating Boardgames Dataset"
   ]
  },
  {
   "cell_type": "code",
   "execution_count": 29,
   "id": "c33691c9-65e7-4d69-bab7-3e6368efc65a",
   "metadata": {
    "tags": []
   },
   "outputs": [],
   "source": [
    "boardgames_df = kickstarter_df"
   ]
  },
  {
   "cell_type": "code",
   "execution_count": 30,
   "id": "f4763906-507b-437b-85c4-4f22169e8493",
   "metadata": {
    "tags": []
   },
   "outputs": [],
   "source": [
    "boardgames_filter = boardgames_df.subcategory == 'Board & Card Games'"
   ]
  },
  {
   "cell_type": "code",
   "execution_count": 31,
   "id": "d9be6217-4588-4194-a9bc-72749007737d",
   "metadata": {
    "tags": []
   },
   "outputs": [],
   "source": [
    "boardgames_df = boardgames_df[boardgames_filter]"
   ]
  },
  {
   "cell_type": "code",
   "execution_count": 32,
   "id": "2cf9643e-9a5e-4fe7-aac9-1c92edcea431",
   "metadata": {
    "tags": []
   },
   "outputs": [
    {
     "data": {
      "text/plain": [
       "(553, 17)"
      ]
     },
     "execution_count": 32,
     "metadata": {},
     "output_type": "execute_result"
    }
   ],
   "source": [
    "boardgames_df.shape"
   ]
  },
  {
   "cell_type": "code",
   "execution_count": 33,
   "id": "aa157ed7-b4e9-4c52-98b6-e9f231f57b62",
   "metadata": {
    "tags": []
   },
   "outputs": [],
   "source": [
    "boardgames_df.to_csv('boardgames_clean.csv', index=False)"
   ]
  },
  {
   "cell_type": "code",
   "execution_count": 34,
   "id": "0b930128-976f-4875-b38e-b55016500989",
   "metadata": {
    "tags": []
   },
   "outputs": [],
   "source": [
    "boardgames_df = pd.read_csv('boardgames_clean.csv', encoding='latin1')"
   ]
  },
  {
   "cell_type": "code",
   "execution_count": null,
   "id": "79619a94-d95a-4b4f-95ac-f758794b2a36",
   "metadata": {},
   "outputs": [],
   "source": []
  }
 ],
 "metadata": {
  "kernelspec": {
   "display_name": "Python 3 (ipykernel)",
   "language": "python",
   "name": "python3"
  },
  "language_info": {
   "codemirror_mode": {
    "name": "ipython",
    "version": 3
   },
   "file_extension": ".py",
   "mimetype": "text/x-python",
   "name": "python",
   "nbconvert_exporter": "python",
   "pygments_lexer": "ipython3",
   "version": "3.11.4"
  }
 },
 "nbformat": 4,
 "nbformat_minor": 5
}
